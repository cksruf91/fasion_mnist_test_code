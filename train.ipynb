{
 "cells": [
  {
   "cell_type": "code",
   "execution_count": 1,
   "id": "fdc52d34-0de0-437a-9195-ee3fcb903daa",
   "metadata": {},
   "outputs": [
    {
     "name": "stderr",
     "output_type": "stream",
     "text": [
      "/home/ec2-user/anaconda3/envs/env1/lib/python3.8/site-packages/tqdm/auto.py:22: TqdmWarning: IProgress not found. Please update jupyter and ipywidgets. See https://ipywidgets.readthedocs.io/en/stable/user_install.html\n",
      "  from .autonotebook import tqdm as notebook_tqdm\n"
     ]
    }
   ],
   "source": [
    "import numpy as np\n",
    "import pytorch_model_summary\n",
    "import torch\n",
    "from torch.utils.data import DataLoader\n",
    "from torchvision.datasets import FashionMNIST\n",
    "\n",
    "from functions.callbacks import MlflowLogger, ModelCheckPoint\n",
    "from model.cnn_model import Net"
   ]
  },
  {
   "cell_type": "code",
   "execution_count": 2,
   "id": "0305c4f6-adbb-4d49-8d9f-11073d9ef09c",
   "metadata": {},
   "outputs": [
    {
     "name": "stdout",
     "output_type": "stream",
     "text": [
      "cuda : True\n"
     ]
    },
    {
     "data": {
      "text/plain": [
       "Net(\n",
       "  (conv2d): Conv2d(1, 3, kernel_size=(3, 3), stride=(1, 1), padding=(1, 1))\n",
       "  (dropout): Dropout(p=0.1, inplace=False)\n",
       "  (relu): ReLU()\n",
       "  (softmax): Softmax(dim=1)\n",
       "  (linear): Linear(in_features=588, out_features=10, bias=True)\n",
       "  (linear2): Linear(in_features=10, out_features=10, bias=True)\n",
       ")"
      ]
     },
     "execution_count": 2,
     "metadata": {},
     "output_type": "execute_result"
    }
   ],
   "source": [
    "print(f\"cuda : {torch.cuda.is_available()}\")\n",
    "device = torch.device(\"cuda\")\n",
    "lr = 1e-3\n",
    "batch_size = 16\n",
    "\n",
    "train_dataset = FashionMNIST(\n",
    "    root='./dataset/FashionMnist', train=True, download=True,\n",
    "    transform=lambda x: torch.tensor((x - np.mean(x)) / np.std(x), device=device)\n",
    ")\n",
    "test_dataset = FashionMNIST(\n",
    "    root='./dataset/FashionMnist', train=False, download=True,\n",
    "    transform=lambda x: torch.tensor((x - np.mean(x)) / np.std(x), device=device)\n",
    ")\n",
    "\n",
    "train_iterator = DataLoader(train_dataset, batch_size=batch_size, shuffle=True, drop_last=True)\n",
    "test_iterator = DataLoader(train_dataset, batch_size=batch_size, shuffle=False, drop_last=True)\n",
    "\n",
    "model = Net(device=device)\n",
    "model.double()"
   ]
  },
  {
   "cell_type": "code",
   "execution_count": 3,
   "id": "acad0f3d-129c-4021-bcb7-59a5c1f468ad",
   "metadata": {},
   "outputs": [
    {
     "name": "stdout",
     "output_type": "stream",
     "text": [
      "-----------------------------------------------------------------------\n",
      "      Layer (type)         Input Shape         Param #     Tr. Param #\n",
      "=======================================================================\n",
      "          Conv2d-1     [16, 1, 28, 28]              30              30\n",
      "            ReLU-2     [16, 3, 28, 28]               0               0\n",
      "         Dropout-3           [16, 588]               0               0\n",
      "          Linear-4           [16, 588]           5,890           5,890\n",
      "          Linear-5            [16, 10]             110             110\n",
      "         Softmax-6            [16, 10]               0               0\n",
      "=======================================================================\n",
      "Total params: 6,030\n",
      "Trainable params: 6,030\n",
      "Non-trainable params: 0\n",
      "-----------------------------------------------------------------------\n"
     ]
    }
   ],
   "source": [
    "model_input = next(iter(train_iterator))\n",
    "print(\n",
    "    pytorch_model_summary.summary(\n",
    "        model, model_input[0], show_input=True\n",
    "    )\n",
    ")"
   ]
  },
  {
   "cell_type": "markdown",
   "id": "9cad1550-eb11-4cf0-bbae-3efefa88a332",
   "metadata": {},
   "source": [
    "-----"
   ]
  },
  {
   "cell_type": "code",
   "execution_count": 4,
   "id": "4fcd41a6-51c2-4b93-8ffa-eb40aa53942b",
   "metadata": {},
   "outputs": [],
   "source": [
    "cross_entropy_loss = torch.nn.CrossEntropyLoss().to(model.device)\n",
    "optimizer = torch.optim.Adam(model.parameters(), lr=lr)\n",
    "callbacks = []"
   ]
  },
  {
   "cell_type": "code",
   "execution_count": 5,
   "id": "b3ac492f-7084-4b27-b91a-944074355a83",
   "metadata": {
    "tags": []
   },
   "outputs": [
    {
     "name": "stdout",
     "output_type": "stream",
     "text": [
      " train 001/10 epoch [■■■■■■■■■■■■■■■■■■■■■■■■■■■■■■] 100.00% Done 20.59 sec loss : 1.722 acc : 0.743  val_loss : 1.613  val_acc : 0.851\n",
      " train 002/10 epoch [■■■■■■■■■■■■■■■■■■■■■■■■■■■■■■] 100.00% Done 20.61 sec loss : 1.615 acc : 0.847  val_loss : 1.598  val_acc : 0.864\n",
      " train 003/10 epoch [■■■■■■■■■■■■■■■■■■■■■■■■■■■■■■] 100.00% Done 20.68 sec loss : 1.604 acc : 0.857  val_loss : 1.601  val_acc : 0.862\n",
      " train 004/10 epoch [■■■■■■■■■■■■■■■■■■■■■■■■■■■■■■] 100.00% Done 20.68 sec loss : 1.599 acc : 0.863  val_loss : 1.588  val_acc : 0.873\n",
      " train 005/10 epoch [■■■■■■■■■■■■■■■■■■■■■■■■■■■■■■] 100.00% Done 20.55 sec loss : 1.594 acc : 0.867  val_loss : 1.580  val_acc : 0.881\n",
      " train 006/10 epoch [■■■■■■■■■■■■■■■■■■■■■■■■■■■■■■] 100.00% Done 20.52 sec loss : 1.592 acc : 0.869  val_loss : 1.587  val_acc : 0.874\n",
      " train 007/10 epoch [■■■■■■■■■■■■■■■■■■■■■■■■■■■■■■] 100.00% Done 20.58 sec loss : 1.591 acc : 0.870  val_loss : 1.578  val_acc : 0.883\n",
      " train 008/10 epoch [■■■■■■■■■■■■■■■■■■■■■■■■■■■■■■] 100.00% Done 20.55 sec loss : 1.589 acc : 0.872  val_loss : 1.584  val_acc : 0.877\n",
      " train 009/10 epoch [■■■■■■■■■■■■■■■■■■■■■■■■■■■■■■] 100.00% Done 20.57 sec loss : 1.586 acc : 0.875  val_loss : 1.577  val_acc : 0.885\n",
      " train 010/10 epoch [■■■■■■■■■■■■■■■■■■■■■■■■■■■■■■] 100.00% Done 20.58 sec loss : 1.586 acc : 0.875  val_loss : 1.575  val_acc : 0.887\n"
     ]
    }
   ],
   "source": [
    "model.fit(\n",
    "    10, train_iterator, test_iterator, \n",
    "    loss_func=cross_entropy_loss, optimizer=optimizer, \n",
    "    callback=callbacks\n",
    ")"
   ]
  },
  {
   "cell_type": "markdown",
   "id": "79f4a74d-a2ea-40e4-aab0-b6be034c50ca",
   "metadata": {},
   "source": [
    "-----"
   ]
  },
  {
   "cell_type": "code",
   "execution_count": 7,
   "id": "2177957c-8e26-4f18-b68d-7192ec44d56e",
   "metadata": {},
   "outputs": [],
   "source": [
    "def multiplied_mse(output, label):\n",
    "    bs = len(label)\n",
    "    idx = torch.tensor(range(bs))\n",
    "    one_hot_label = torch.zeros([16, 10], device=device)\n",
    "    one_hot_label[idx, label] = 1\n",
    "    return torch.mean((output - one_hot_label)**2) * 20"
   ]
  },
  {
   "cell_type": "code",
   "execution_count": 5,
   "id": "026d950b-e51f-49a7-be0b-074b14ed4b66",
   "metadata": {},
   "outputs": [],
   "source": [
    "optimizer = torch.optim.Adam(model.parameters(), lr=lr)\n",
    "callbacks = []"
   ]
  },
  {
   "cell_type": "code",
   "execution_count": 8,
   "id": "1efb6195-c4e2-479b-9a65-d9fdc1cc1058",
   "metadata": {},
   "outputs": [
    {
     "name": "stdout",
     "output_type": "stream",
     "text": [
      " train 001/10 epoch [■■■■■■■■■■■■■■■■■■■■■■■■■■■■■■] 100.00% Done 21.82 sec loss : 0.572 acc : 0.803  val_loss : 0.404  val_acc : 0.862\n",
      " train 002/10 epoch [■■■■■■■■■■■■■■■■■■■■■■■■■■■■■■] 100.00% Done 21.83 sec loss : 0.414 acc : 0.859  val_loss : 0.365  val_acc : 0.877\n",
      " train 003/10 epoch [■■■■■■■■■■■■■■■■■■■■■■■■■■■■■■] 100.00% Done 21.93 sec loss : 0.390 acc : 0.867  val_loss : 0.355  val_acc : 0.879\n",
      " train 004/10 epoch [■■■■■■■■■■■■■■■■■■■■■■■■■■■■■■] 100.00% Done 21.95 sec loss : 0.377 acc : 0.872  val_loss : 0.339  val_acc : 0.885\n",
      " train 005/10 epoch [■■■■■■■■■■■■■■■■■■■■■■■■■■■■■■] 100.00% Done 21.97 sec loss : 0.366 acc : 0.875  val_loss : 0.330  val_acc : 0.888\n",
      " train 006/10 epoch [■■■■■■■■■■■■■■■■■■■■■■■■■■■■■■] 100.00% Done 21.93 sec loss : 0.361 acc : 0.877  val_loss : 0.318  val_acc : 0.893\n",
      " train 007/10 epoch [■■■■■■■■■■■■■■■■■■■■■■■■■■■■■■] 100.00% Done 21.90 sec loss : 0.358 acc : 0.879  val_loss : 0.318  val_acc : 0.894\n",
      " train 008/10 epoch [■■■■■■■■■■■■■■■■■■■■■■■■■■■■■■] 100.00% Done 21.91 sec loss : 0.353 acc : 0.880  val_loss : 0.326  val_acc : 0.890\n",
      " train 009/10 epoch [■■■■■■■■■■■■■■■■■■■■■■■■■■■■■■] 100.00% Done 21.91 sec loss : 0.352 acc : 0.881  val_loss : 0.310  val_acc : 0.896\n",
      " train 010/10 epoch [■■■■■■■■■■■■■■■■■■■■■■■■■■■■■■] 100.00% Done 21.93 sec loss : 0.350 acc : 0.882  val_loss : 0.308  val_acc : 0.896\n"
     ]
    }
   ],
   "source": [
    "model.fit(\n",
    "    10, train_iterator, test_iterator, \n",
    "    loss_func=multiplied_mse, optimizer=optimizer, \n",
    "    callback=callbacks\n",
    ")"
   ]
  },
  {
   "cell_type": "markdown",
   "id": "6be01f09-8087-45f8-89b6-0d2a23893a93",
   "metadata": {},
   "source": [
    "-----"
   ]
  },
  {
   "cell_type": "code",
   "execution_count": 11,
   "id": "06dc7bcb-f194-4373-aa36-3fca44d96ee8",
   "metadata": {},
   "outputs": [],
   "source": [
    "def fake_loss(output, label):\n",
    "    return torch.tensor(0.0, device=device, requires_grad=True)"
   ]
  },
  {
   "cell_type": "code",
   "execution_count": 12,
   "id": "e497c05e-8345-4dbb-8428-fe4e4fdbf6f3",
   "metadata": {},
   "outputs": [],
   "source": [
    "optimizer = torch.optim.Adam(model.parameters(), lr=lr)\n",
    "callbacks = []"
   ]
  },
  {
   "cell_type": "code",
   "execution_count": 14,
   "id": "3c0fccdc-a2c5-49fb-9e1a-c1e186794cf5",
   "metadata": {},
   "outputs": [
    {
     "name": "stdout",
     "output_type": "stream",
     "text": [
      " train 001/2 epoch [■■■■■■■■■■■■■■■■■■■■■■■■■■■■■■] 100.00% Done 14.53 sec loss : 0.000 acc : 0.089  val_loss : 0.000  val_acc : 0.089\n",
      " train 002/2 epoch [■■■■■■■■■■■■■■■■■■■■■■■■■■■■■■] 100.00% Done 14.56 sec loss : 0.000 acc : 0.088  val_loss : 0.000  val_acc : 0.089\n"
     ]
    }
   ],
   "source": [
    "model.fit(\n",
    "    2, train_iterator, test_iterator, \n",
    "    loss_func=fake_loss, optimizer=optimizer, \n",
    "    callback=callbacks\n",
    ")"
   ]
  },
  {
   "cell_type": "code",
   "execution_count": null,
   "id": "ccd49b64-cfd2-4055-adc5-770bb826cba7",
   "metadata": {},
   "outputs": [],
   "source": []
  }
 ],
 "metadata": {
  "kernelspec": {
   "display_name": "env1",
   "language": "python",
   "name": "env1"
  },
  "language_info": {
   "codemirror_mode": {
    "name": "ipython",
    "version": 3
   },
   "file_extension": ".py",
   "mimetype": "text/x-python",
   "name": "python",
   "nbconvert_exporter": "python",
   "pygments_lexer": "ipython3",
   "version": "3.8.8"
  }
 },
 "nbformat": 4,
 "nbformat_minor": 5
}
